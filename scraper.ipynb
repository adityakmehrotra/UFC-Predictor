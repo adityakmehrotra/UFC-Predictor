{
 "cells": [
  {
   "cell_type": "code",
   "execution_count": 4,
   "metadata": {},
   "outputs": [],
   "source": [
    "from selenium import webdriver\n",
    "from selenium.webdriver.common.by import By\n",
    "from selenium.common.exceptions import NoSuchElementException\n",
    "import numpy as np\n",
    "import pandas as pd\n",
    "from sklearn.linear_model import LinearRegression, LogisticRegression\n",
    "from bs4 import BeautifulSoup\n",
    "import pandas as pd\n",
    "import csv\n",
    "import time"
   ]
  },
  {
   "cell_type": "code",
   "execution_count": 5,
   "metadata": {},
   "outputs": [],
   "source": [
    "driver = webdriver.Chrome()\n",
    "with open('fight_data.csv', 'w', newline = '') as file:\n",
    "    writer = csv.writer(file)\n",
    "    writer.writerow(['Fighter 1', 'Fighter 2', 'Fighter 1 KD', 'Fighter 1 STR', 'Fighter 1 TD', 'Fighter 1 SUB', 'Fighter 2 KD', 'Fighter 2 STR', \n",
    "    'Fighter 2 TD', 'Fighter 2 SUB', 'Method', 'Round', 'Time'])\n",
    "\n",
    "    driver.get(\"http://ufcstats.com/statistics/events/completed\")\n",
    "    driver.maximize_window()\n",
    "\n",
    "    fightRowVal = 3\n",
    "    pageVal = 2\n",
    "\n",
    "    while (fightRowVal < 27):\n",
    "        nextFightButton = driver.find_element(By.XPATH, f\"/html/body/section/div/div/div/div[2]/div/table/tbody/tr[{fightRowVal}]/td[1]/i/a\")\n",
    "        nextFightButton.click()\n",
    "        fightRowVal += 1\n",
    "\n",
    "        driver.back()\n",
    "\n",
    "        if (fightRowVal == 27):\n",
    "            nextPageButton = driver.find_element(By.XPATH, f\"/html/body/section/div/div/div/div[2]/div/div/ul/li[{pageVal}]/a\")\n",
    "            pageVal += 1\n",
    "\n",
    "            fightRowVal = 2\n",
    "    \n",
    "\n",
    "\n",
    "\n",
    "                \n",
    "driver.quit"
   ]
  },
  {
   "cell_type": "code",
   "execution_count": null,
   "metadata": {},
   "outputs": [],
   "source": []
  }
 ],
 "metadata": {
  "kernelspec": {
   "display_name": "Python 3.10.7 64-bit",
   "language": "python",
   "name": "python3"
  },
  "language_info": {
   "codemirror_mode": {
    "name": "ipython",
    "version": 3
   },
   "file_extension": ".py",
   "mimetype": "text/x-python",
   "name": "python",
   "nbconvert_exporter": "python",
   "pygments_lexer": "ipython3",
   "version": "3.10.7"
  },
  "orig_nbformat": 4,
  "vscode": {
   "interpreter": {
    "hash": "aee8b7b246df8f9039afb4144a1f6fd8d2ca17a180786b69acc140d282b71a49"
   }
  }
 },
 "nbformat": 4,
 "nbformat_minor": 2
}
